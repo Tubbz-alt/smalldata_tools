{
 "cells": [
  {
   "cell_type": "code",
   "execution_count": 1,
   "metadata": {},
   "outputs": [],
   "source": [
    "import numpy as np\n",
    "import matplotlib.pyplot as plt\n",
    "from skimage.draw import circle_perimeter\n",
    "from time import time\n",
    "%matplotlib notebook\n",
    "import sys\n",
    "sys.path.append('../..')\n",
    "import smalldata_tools.utilities_FitCenter as fc"
   ]
  },
  {
   "cell_type": "code",
   "execution_count": 3,
   "metadata": {},
   "outputs": [],
   "source": [
    "im = np.load('../../test/test_data/AvImg_xppo5616_Run716.npy')\n",
    "mask = np.load('../../test/test_data/AvImg_xppo5616_Run716_mask.npy')"
   ]
  },
  {
   "cell_type": "code",
   "execution_count": 4,
   "metadata": {},
   "outputs": [
    {
     "name": "stderr",
     "output_type": "stream",
     "text": [
      "/reg/g/psdm/sw/conda/inst/miniconda2-prod-rhel7/envs/ana-1.5.2/lib/python2.7/site-packages/numba/ir_utils.py:2030: NumbaPendingDeprecationWarning: \n",
      "Encountered the use of a type that is scheduled for deprecation: type 'reflected list' found for argument 'zip_obj' of function '_transform_hough_array'.\n",
      "\n",
      "For more information visit http://numba.pydata.org/numba-doc/latest/reference/deprecation.html#deprecation-of-reflection-for-list-and-set-types\n",
      "\n",
      "File \"../../smalldata_tools/utilities_FitCenter.py\", line 54:\n",
      "@jit(cache=True, nopython=True)\n",
      "def _transform_hough_array(ar_hough, radii, zip_obj, center_x, center_y, dr, r_low, r_hi):\n",
      "^\n",
      "\n",
      "  warnings.warn(NumbaPendingDeprecationWarning(msg, loc=loc))\n"
     ]
    }
   ],
   "source": [
    "res, info, _ = fc.FindFitCenter(im, mask)"
   ]
  },
  {
   "cell_type": "code",
   "execution_count": 5,
   "metadata": {},
   "outputs": [
    {
     "name": "stdout",
     "output_type": "stream",
     "text": [
      "('result ', {'info': {'qtf': array([ -7.66075524e-06,   3.37555120e-06]), 'nfev': 10, 'fjac': array([[ -5.62839006e+01,   1.78122480e-02,   1.78131685e-02, ...,\n",
      "          1.39044828e-02,   1.38519235e-02,   1.54540219e-02],\n",
      "       [ -4.11660656e-03,  -5.62628543e+01,   2.41072110e-04, ...,\n",
      "         -1.10586621e-02,  -1.11248132e-02,  -8.74746000e-03]]), 'fvec': array([ 0.19668543,  0.17664261,  0.15964786, ..., -0.49949565,\n",
      "        0.1226025 ,  0.26642748]), 'ipvt': array([2, 1], dtype=int32)}, 'C': array([[  3.15904984e-04,  -2.31053021e-08],\n",
      "       [ -2.31053021e-08,   3.15668776e-04]]), 'success': 3, 'xCen': 847.07352509152054, 'residu': [648.04605848174492, 675.72748044636933, 522.42925039456304, 291.63675837529138], 'R': [327.78745638895504, 336.50523783700697, 173.39877718424756, 164.83525506597096], 'msg': 'Both actual and predicted relative reductions in the sum of squares\\n  are at most 0.000000 and the relative error between two consecutive iterates is at \\n  most 0.000000', 'yCen': 846.90785676288931})\n"
     ]
    }
   ],
   "source": [
    "print('result ', res)"
   ]
  },
  {
   "cell_type": "code",
   "execution_count": 6,
   "metadata": {},
   "outputs": [
    {
     "data": {
      "image/png": "[encoded data removed]",
      "text/plain": [
       "<Figure size 432x288 with 1 Axes>"
      ]
     },
     "metadata": {
      "needs_background": "light"
     },
     "output_type": "display_data"
    }
   ],
   "source": [
    "edges, sparse_edges = fc.find_edges(im, mask, 4, 0.98, 0.92)\n",
    "plt.figure()\n",
    "plt.imshow(edges)\n",
    "plt.show()"
   ]
  },
  {
   "cell_type": "code",
   "execution_count": 8,
   "metadata": {},
   "outputs": [],
   "source": [
    "r_vals, x, y = fc.iterate_center(sparse_edges, 1.5, [1, 1401], 280, 100, 1, 5, True, -1)"
   ]
  },
  {
   "cell_type": "code",
   "execution_count": 10,
   "metadata": {},
   "outputs": [],
   "source": [
    "res, ring_info, edges = fc.ransac_result(sparse_edges, [x, y], r_vals, 10, 5, 40, 10, 2, 0.45)"
   ]
  },
  {
   "cell_type": "code",
   "execution_count": 11,
   "metadata": {},
   "outputs": [
    {
     "ename": "KeyError",
     "evalue": "'x_cen'",
     "output_type": "error",
     "traceback": [
      "\u001b[0;31m\u001b[0m",
      "\u001b[0;31mKeyError\u001b[0mTraceback (most recent call last)",
      "\u001b[0;32m<ipython-input-11-ceedc533fa8d>\u001b[0m in \u001b[0;36m<module>\u001b[0;34m()\u001b[0m\n\u001b[0;32m----> 1\u001b[0;31m \u001b[0mcenter_x\u001b[0m \u001b[0;34m=\u001b[0m \u001b[0mres\u001b[0m\u001b[0;34m[\u001b[0m\u001b[0;34m'x_cen'\u001b[0m\u001b[0;34m]\u001b[0m\u001b[0;34m\u001b[0m\u001b[0m\n\u001b[0m\u001b[1;32m      2\u001b[0m \u001b[0mcenter_y\u001b[0m \u001b[0;34m=\u001b[0m \u001b[0mres\u001b[0m\u001b[0;34m[\u001b[0m\u001b[0;34m'y_cen'\u001b[0m\u001b[0;34m]\u001b[0m\u001b[0;34m\u001b[0m\u001b[0m\n\u001b[1;32m      3\u001b[0m \u001b[0mplt\u001b[0m\u001b[0;34m.\u001b[0m\u001b[0mfigure\u001b[0m\u001b[0;34m(\u001b[0m\u001b[0;34m)\u001b[0m\u001b[0;34m\u001b[0m\u001b[0m\n\u001b[1;32m      4\u001b[0m \u001b[0mplt\u001b[0m\u001b[0;34m.\u001b[0m\u001b[0mimshow\u001b[0m\u001b[0;34m(\u001b[0m\u001b[0mim\u001b[0m\u001b[0;34m)\u001b[0m\u001b[0;34m\u001b[0m\u001b[0m\n\u001b[1;32m      5\u001b[0m \u001b[0;32mfor\u001b[0m \u001b[0mr\u001b[0m \u001b[0;32min\u001b[0m \u001b[0mres\u001b[0m\u001b[0;34m[\u001b[0m\u001b[0;34m'R'\u001b[0m\u001b[0;34m]\u001b[0m\u001b[0;34m:\u001b[0m\u001b[0;34m\u001b[0m\u001b[0m\n",
      "\u001b[0;31mKeyError\u001b[0m: 'x_cen'"
     ]
    }
   ],
   "source": [
    "center_x = res['x_cen']\n",
    "center_y = res['y_cen']\n",
    "plt.figure()\n",
    "plt.imshow(im)\n",
    "for r in res['R']:\n",
    "    circy, circx = circle_perimeter(int(center_y), int(center_x), int(r), shape=im.shape)\n",
    "    plt.scatter(circy, circx, s=5)\n",
    "plt.scatter(center_x, center_y)\n",
    "plt.show()"
   ]
  },
  {
   "cell_type": "code",
   "execution_count": null,
   "metadata": {},
   "outputs": [],
   "source": []
  }
 ],
 "metadata": {
  "kernelspec": {
   "display_name": "Python 2 ana-current",
   "language": "python",
   "name": "ana-current"
  },
  "language_info": {
   "codemirror_mode": {
    "name": "ipython",
    "version": 2
   },
   "file_extension": ".py",
   "mimetype": "text/x-python",
   "name": "python",
   "nbconvert_exporter": "python",
   "pygments_lexer": "ipython2",
   "version": "2.7.15"
  }
 },
 "nbformat": 4,
 "nbformat_minor": 4
}

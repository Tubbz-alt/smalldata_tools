{
 "cells": [
  {
   "cell_type": "markdown",
   "metadata": {},
   "source": [
    "# Imports."
   ]
  },
  {
   "cell_type": "code",
   "execution_count": null,
   "metadata": {},
   "outputs": [],
   "source": [
    "import tables\n",
    "import numpy as np\n",
    "import scipy\n",
    "import holoviews as hv\n",
    "hv.extension('bokeh')"
   ]
  },
  {
   "cell_type": "markdown",
   "metadata": {},
   "source": [
    "## Get the template trace from a hdf5 file"
   ]
  },
  {
   "cell_type": "code",
   "execution_count": null,
   "metadata": {},
   "outputs": [],
   "source": [
    "templateFile = '/reg/g/xpp/xpptut15/results/smalldata_tools/examples/notebooks/SingleAcqirisPeak_all.h5'\n",
    "peakTemplate = tables.open_file(templateFile).root.sumTracePk\n",
    "peakTemplate = tables.open_file(templateFile).root.singlePicked\n",
    "peakTemplate = tables.open_file(templateFile).root.singlePicked_alt\n",
    "peakTemplate = tables.open_file(templateFile).root.singlePicked_alt\n",
    "\n",
    "peakMain = peakTemplate[50:200].copy()\n",
    "peakMain = peakMain/peakMain.max()"
   ]
  },
  {
   "cell_type": "markdown",
   "metadata": {},
   "source": [
    "## Peak Shape and position from sum of two templates.\n",
    "Each peak is the sum of two templates, shifted by a pixel, the floating point part of the main peak position corresponds to the ratio of the two peaks. The figure below allows you to see the effect of the floating point position (which is also needed for the optimization to work as written)."
   ]
  },
  {
   "cell_type": "code",
   "execution_count": null,
   "metadata": {},
   "outputs": [],
   "source": [
    "def templatePlot(peakpos, templateShape=150):\n",
    "    args = [peakpos, min(peakpos-200,100), 1., 0.]\n",
    "    template = templateArray(args, templateShape)\n",
    "    c1 = hv.Curve(template,('time','time'),('V','V')).options(width=300)\n",
    "    c2 = hv.Curve(template,('Time','Time'),('Volt','Volt')).redim.range(Time=(17,32),Volt=(0.3,1.)).options(width=250)\n",
    "    return c1+c2\n",
    "\n",
    "dmap = hv.DynamicMap(templatePlot, kdims=[hv.Dimension('peakpos',range=(19.75,21.25))])\n",
    "dmap"
   ]
  },
  {
   "cell_type": "markdown",
   "metadata": {},
   "source": [
    "## Functions for template fitting\n",
    "The initial estimate step finds the largest derivitive as peak position and uses the maximum value after the peak as guess for the amplitude."
   ]
  },
  {
   "cell_type": "code",
   "execution_count": null,
   "metadata": {},
   "outputs": [],
   "source": [
    "def findPars(trace, nPeak=2):\n",
    "    difftrace = np.diff(trace)\n",
    "    peakIdx = scipy.signal.find_peaks_cwt(difftrace, widths=[3])\n",
    "    maxIdx = [ x for _,x in sorted(zip(difftrace[peakIdx],peakIdx), key=lambda pair: pair[0], reverse=True)]\n",
    "    peakPos=[];peakVal=[]\n",
    "    for iPk in range(nPeak):\n",
    "       idx=maxIdx[iPk]\n",
    "       while difftrace[idx]>0:\n",
    "            idx+=1\n",
    "       peakPos.append(idx)\n",
    "       peakVal.append(trace[idx])\n",
    "    #sort in peak position.\n",
    "    pPos = [ pos for pos,_ in sorted(zip(peakPos,peakVal))]\n",
    "    pPk = [ pk for _,pk in sorted(zip(peakPos,peakVal))]\n",
    "    for pVal in pPk:\n",
    "        pPos.append(pVal)\n",
    "    return pPos\n",
    "\n",
    "#add template for peak w/ peak shifted by 1 with fraction of peak position.\n",
    "#now the optimization actually works!\n",
    "def templateArray(args, templateShape):\n",
    "    template = peakMain#[10:110]\n",
    "    templateMaxPos = np.argmax(template)\n",
    "    if (args[0]>templateMaxPos):\n",
    "        templatePk1 = np.append(np.zeros(args[0]-templateMaxPos), template)\n",
    "    else:\n",
    "        templatePk1 = template[templateMaxPos-args[0]:]\n",
    "    if (templateShape-templatePk1.shape[0])>0:\n",
    "        templatePk1 = np.append(templatePk1, np.zeros(templateShape-templatePk1.shape[0]))\n",
    "    templatePkp1 = np.append(np.array([0]), templatePk1[:-1])\n",
    "    frac1 = args[0]-int(args[0])\n",
    "    template1 = templatePk1*(1.-frac1)+templatePkp1*frac1\n",
    "    if args[3]==0:\n",
    "        return template1*args[2]\n",
    "    templatePk2 = np.append(np.zeros(args[1]-templateMaxPos), template)\n",
    "    if (templateShape-templatePk2.shape[0])>0:\n",
    "        templatePk2 = np.append(templatePk2, np.zeros(templateShape-templatePk2.shape[0]))\n",
    "    templatePkp2 = np.append(np.array([0]), templatePk2[:-1])\n",
    "    frac2 = args[1]-int(args[1])\n",
    "    template2 = templatePk2*(1.-frac2)+templatePkp2*frac2\n",
    "    templateSum=template1*args[2]+template2*args[3]\n",
    "    return templateSum\n",
    "\n",
    "#make sure to exclude points > max from calc!\n",
    "def fitTemplateLeastsq(trace, saturationFrac=0.98, debug=False):\n",
    "    args0 = findPars(trace)\n",
    "    maxTrace = np.nanmax(trace)*saturationFrac\n",
    "    if debug: print 'maxtrace: ',maxTrace,' n high pix ',(trace>maxTrace).sum() \n",
    "    if (trace>maxTrace).sum() > 2:\n",
    "        maskSaturation=[trace<maxTrace]\n",
    "    else:\n",
    "        maskSaturation=np.ones_like(trace).astype(bool)\n",
    "    errorfunction = lambda p: templateArray(p, trace.shape[0])[maskSaturation]-trace[maskSaturation]\n",
    "    p, success = scipy.optimize.leastsq(errorfunction, args0)\n",
    "    return p\n",
    "\n",
    "def residuals(ar1, ar2, saturationFrac=0.98, error=9e-4):\n",
    "    resid=0.\n",
    "    maxTrace = np.nanmax(ar1)*saturationFrac\n",
    "    if (ar1>maxTrace).sum() > 2:\n",
    "        mask=np.array([ar1<maxTrace]).squeeze()\n",
    "    else:\n",
    "        mask=np.ones_like(ar1).astype(bool)\n",
    "    ndof=0\n",
    "    for r1,r2,m in zip(ar1, ar2, mask):\n",
    "        #print 'r1, r2. resid :', r1, r2, m, resid, ndof\n",
    "        diffSq = (r1-r2)/error*(r1-r2)/error*m\n",
    "        if m != 0:\n",
    "            resid+=diffSq\n",
    "            ndof+=1\n",
    "\n",
    "    return resid/(ndof-1)"
   ]
  },
  {
   "cell_type": "markdown",
   "metadata": {},
   "source": [
    "## Load the traces to be fitted."
   ]
  },
  {
   "cell_type": "code",
   "execution_count": null,
   "metadata": {},
   "outputs": [],
   "source": [
    "expname='xcsx31116'\n",
    "dirname='/reg/d/psdm/%s/%s/hdf5/smalldata/'%(expname[0:3],expname)\n",
    "\n",
    "#run=101\n",
    "#run=102\n",
    "run=106\n",
    "fname='sml_uxi_pedSub_%s_%04d_new.h5'%(expname, run)\n",
    "Dat = tables.open_file('%s/%s'%(dirname, fname)).root\n",
    "acqTraces = Dat.acq01.data.read().squeeze()"
   ]
  },
  {
   "cell_type": "markdown",
   "metadata": {},
   "source": [
    "# Fit some example curves."
   ]
  },
  {
   "cell_type": "code",
   "execution_count": null,
   "metadata": {},
   "outputs": [],
   "source": [
    "trace1 = acqTraces[12]\n",
    "trace2 = acqTraces[18]\n",
    "xrange=(3100,3300)\n",
    "#print findPars(trace1)\n",
    "dimx=('xt','Time (trace1)')\n",
    "dimy=('yt','Volt (trace1)')\n",
    "dimx2=('xt2','Time (trace2)')\n",
    "dimy2=('yt2','Volt (trace2)')\n",
    "\n",
    "fitPars1 = fitTemplateLeastsq(trace1)\n",
    "fitPars2 = fitTemplateLeastsq(trace2)\n",
    "estCurve1 = templateArray(findPars(trace1), trace1.shape[0])\n",
    "fitCurve1 = templateArray(fitPars1, trace1.shape[0])\n",
    "resid1 = residuals(trace1[3125:3300], fitCurve1[3125:3300])\n",
    "estCurve2 = templateArray(findPars(trace2), trace2.shape[0])\n",
    "fitCurve2 = templateArray(fitPars2, trace2.shape[0])\n",
    "resid2 = residuals(trace2[3125:3300], fitCurve2[3125:3300])\n",
    "\n",
    "print resid1, resid2\n",
    "\n",
    "hv.Curve(trace1,dimx,dimy,label='data').redim.range(xt=xrange).options(width=400) *\\\n",
    "hv.Curve(estCurve1,dimx,dimy,label='estimate').redim.range(xt=xrange) *\\\n",
    "hv.Curve(fitCurve1,dimx,dimy,label='fit').redim.range(xt=xrange) +\\\n",
    "hv.Curve(trace2,dimx2,dimy2).redim.range(xt2=xrange).options(width=400) *\\\n",
    "hv.Curve(estCurve2,dimx2,dimy2).redim.range(xt2=xrange) *\\\n",
    "hv.Curve(fitCurve2,dimx2,dimy2).redim.range(xt2=xrange)"
   ]
  }
 ],
 "metadata": {
  "kernelspec": {
   "display_name": "Python 2 ana-1.3.52",
   "language": "python",
   "name": "ana-1.3.52"
  },
  "language_info": {
   "codemirror_mode": {
    "name": "ipython",
    "version": 2
   },
   "file_extension": ".py",
   "mimetype": "text/x-python",
   "name": "python",
   "nbconvert_exporter": "python",
   "pygments_lexer": "ipython2",
   "version": "2.7.15"
  }
 },
 "nbformat": 4,
 "nbformat_minor": 2
}

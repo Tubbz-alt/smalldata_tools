{
 "cells": [
  {
   "cell_type": "markdown",
   "metadata": {},
   "source": [
    "## Imports and set up experiment specific information"
   ]
  },
  {
   "cell_type": "code",
   "execution_count": null,
   "metadata": {},
   "outputs": [],
   "source": [
    "import tables\n",
    "import h5py\n",
    "import numpy as np\n",
    "import sys\n",
    "import itertools\n",
    "import holoviews as hv\n",
    "hv.extension('bokeh')\n",
    "\n",
    "expname='xcsx31116'\n",
    "dirname='/reg/d/psdm/%s/%s/hdf5/smalldata/'%(expname[0:3],expname)\n",
    "\n",
    "pedSlice = slice(0,200)\n",
    "pk1FromFullSlice = slice(3145,3175) \n",
    "pk1Slice = slice(40,75) \n",
    "pk2Slice = slice(75,120) \n",
    "\n",
    "runRangeMin = 90\n",
    "runRangeMax = 107 #run 110 has different timing.\n",
    "\n",
    "def fileName_forTraces(expname, run):\n",
    "    return'sml_uxi_pedSub_%s_%04d_new.h5'%(expname, run)\n",
    "    #return'%s_Run%03d.h5'%(expname, run)"
   ]
  },
  {
   "cell_type": "markdown",
   "metadata": {},
   "source": [
    "### Plot Example Traces from run 90, 108 & 110\n",
    "Note the different timing of the second peak for run 90 versus run 110."
   ]
  },
  {
   "cell_type": "code",
   "execution_count": null,
   "metadata": {},
   "outputs": [],
   "source": [
    "f90=fileName_forTraces(expname, 90)\n",
    "t90 = tables.open_file('%s/%s'%(dirname, f90)).root.acq01.data.read().squeeze()\n",
    "f108=fileName_forTraces(expname, 108)\n",
    "t108 = tables.open_file('%s/%s'%(dirname, f108)).root.acq01.data.read().squeeze()\n",
    "f110=fileName_forTraces(expname, 110)\n",
    "t110 = tables.open_file('%s/%s'%(dirname, f110)).root.acq01.data.read().squeeze()\n",
    "\n",
    "\n",
    "hv.Curve(t90[0],('time','time [arb unit]'),('Volt','Volt')).redim.range(time=(3120, 3300)).options(width=600) * hv.Points(t90[0]).redim.range(x=(3120, 3300)) * \\\n",
    "hv.Curve(t108[2],('time','time [arb unit]')).redim.range(time=(3120, 3300)) * hv.Points(t108[2]).redim.range(x=(3120, 3300)) *\\\n",
    "hv.Curve(t110[10],('time','time [arb unit]')).redim.range(time=(3120, 3300)) * hv.Points(t110[10]).redim.range(x=(3120, 3300)) "
   ]
  },
  {
   "cell_type": "code",
   "execution_count": null,
   "metadata": {},
   "outputs": [],
   "source": [
    "def getTraces(run):\n",
    "    fname=fileName_forTraces(expname, run)\n",
    "    Dat = tables.open_file('%s/%s'%(dirname, fname)).root\n",
    "    #get the trace\n",
    "    acqTraces = Dat.acq01.data.read().squeeze()\n",
    "    #now subtract the pedestal\n",
    "    acqTracesPed = np.array([trace-np.nanmedian(trace[pedSlice]) for trace in acqTraces])\n",
    "    #get the position of the first peak and align traces.\n",
    "    acqPk1Pos = np.array([np.argmax(trace[pk1FromFullSlice]) for trace in acqTracesPed])\n",
    "    acqPedShift = np.array([trace[(3100+ap1):(3400+ap1)] for trace,ap1 in zip(acqTracesPed,acqPk1Pos) if np.abs(ap1)<10])\n",
    "    return acqPedShift\n",
    "\n",
    "traces=[]\n",
    "traceRuns=[]\n",
    "for run in np.arange(runRangeMin,runRangeMax):\n",
    "    try:\n",
    "        ltraces = getTraces(run)\n",
    "        for trace in ltraces:\n",
    "            traces.append(trace)\n",
    "            traceRuns.append(run)\n",
    "    except:\n",
    "        pass"
   ]
  },
  {
   "cell_type": "code",
   "execution_count": null,
   "metadata": {},
   "outputs": [],
   "source": [
    "evts=[0,10,-1]\n",
    "hv.Curve(traces[evts[0]],('time','time [arb unit]'),('Volt','Volt')).options(width=600) * hv.Points(traces[evts[0]]) *\\\n",
    "hv.Curve(traces[evts[1]],('time','time [arb unit]'),('Volt','Volt')).options(width=600) * hv.Points(traces[evts[1]]) *\\\n",
    "hv.Curve(traces[evts[2]],('time','time [arb unit]'),('Volt','Volt')).options(width=600) * hv.Points(traces[evts[2]])"
   ]
  },
  {
   "cell_type": "markdown",
   "metadata": {},
   "source": [
    "## Reject saturated traces"
   ]
  },
  {
   "cell_type": "code",
   "execution_count": null,
   "metadata": {},
   "outputs": [],
   "source": [
    "nSatTraces=[]\n",
    "nSatRuns=[]\n",
    "for trace, run in zip(traces, traceRuns):\n",
    "    maxTrace = np.nanmax(trace)\n",
    "    pixAtMax = (trace>maxTrace*0.99).sum()\n",
    "    if pixAtMax == 1:\n",
    "        nSatTraces.append(trace)\n",
    "        nSatRuns.append(run)"
   ]
  },
  {
   "cell_type": "markdown",
   "metadata": {},
   "source": [
    "## For flexibility in relative peak position, select single peak as template. \n",
    "Need to use second peak to get long tail w/o having to worry that second peak messes with the shape.\n",
    "Requite decent intensity in second peak while rejecting events that have a lot of intensity in first peak "
   ]
  },
  {
   "cell_type": "code",
   "execution_count": null,
   "metadata": {},
   "outputs": [],
   "source": [
    "minPk2 = 0.03 #absolute in V\n",
    "minPk2 = 0.05 #absolute in V - also works, 0.04 does not look good....\n",
    "maxPk1 = 0.01 #absolute in V\n",
    "maxBase = 0.0008\n",
    "#maxBase = 0.0009\n",
    "#minDiff = 0.05 #relative fraction\n",
    "pk2Traces=[]\n",
    "pk2Runs=[]\n",
    "for trace, run in zip(nSatTraces, nSatRuns):\n",
    "    #save relative peak height (max) and height of next  reading.\n",
    "    maxIdx1 = np.argmax(trace[pk1Slice])\n",
    "    maxIdx2 = np.argmax(trace[pk2Slice])\n",
    "    acqPk1=trace[pk1Slice][maxIdx1]\n",
    "    acqPk2=trace[pk2Slice][maxIdx2]\n",
    "    basePk2=np.array(trace[68:74]).mean()\n",
    "    #if acqPk2 > minPk2 and acqPk1 < maxPk1:\n",
    "    if acqPk2 > minPk2 and basePk2 < maxBase:\n",
    "        pk2Traces.append(trace)\n",
    "        pk2Runs.append(run)"
   ]
  },
  {
   "cell_type": "markdown",
   "metadata": {},
   "source": [
    "## Compare sum to single trace\n",
    "Will use single peak that is \"peaky\". Sum washes shape out!\n",
    "Make plot where you can handtune the amount of a sum of two peaks, shifter by one."
   ]
  },
  {
   "cell_type": "code",
   "execution_count": null,
   "metadata": {},
   "outputs": [],
   "source": [
    "minDiff = 0.08 #relative fraction\n",
    "pk2PkTraces=[]\n",
    "pk2PkRuns=[]\n",
    "for it, trace, run in itertools.izip(itertools.count(), pk2Traces, pk2Runs):\n",
    "    #save relative peak height (max) and height of next  reading.\n",
    "    maxIdx2 = np.argmax(trace[pk2Slice])\n",
    "    acqPk2=trace[pk2Slice][maxIdx2]\n",
    "    nbrPk1= 1.-max(trace[pk2Slice][maxIdx2-1], trace[pk2Slice][maxIdx2+1])/acqPk2\n",
    "    #print acqPk2, nbrPk1\n",
    "    if nbrPk1 > minDiff:\n",
    "        print len(pk2PkTraces), acqPk2, nbrPk1, np.array(trace[68:74]).mean(), trace[pk2Slice][0], run\n",
    "        pk2PkTraces.append(trace)\n",
    "        pk2PkRuns.append(run)"
   ]
  },
  {
   "cell_type": "code",
   "execution_count": null,
   "metadata": {},
   "outputs": [],
   "source": [
    "sumTracePk = np.array(pk2PkTraces).sum(axis=0)#[40:110]\n",
    "sumTracePk/=sumTracePk.max()\n",
    "sumTrace = np.array(pk2Traces).sum(axis=0)#[40:110]\n",
    "sumTrace/=sumTrace.max()\n",
    "traceInset_sum = sumTrace.copy()[74:89]\n",
    "traceInset_sumPk = sumTracePk.copy()[74:89]\n",
    "\n",
    "#pick 0&5 for minPk2=0.05\n",
    "#pick ..&10\n",
    "if minPk2==0.05:\n",
    "    singleIdx=[0,5]\n",
    "elif minPk2==0.04:\n",
    "    singleIdx=[0,12]\n",
    "else:\n",
    "    singleIdx=[9,13]\n",
    "    \n",
    "singleTrace = pk2PkTraces[singleIdx[0]]#[40:110]\n",
    "singleTrace/=singleTrace.max()\n",
    "traceInset_single = singleTrace.copy()[74:89]\n",
    "singleTrace2 = pk2PkTraces[singleIdx[1]]#[40:110]\n",
    "singleTrace2/=singleTrace2.max()\n",
    "traceInset_single2 = singleTrace2.copy()[74:89]\n",
    "\n",
    "t1=(40,150)\n",
    "plot1=\\\n",
    "hv.Curve(sumTrace,('time','time [arb unit]'),('Volt','Volt')).redim.range(time=t1).options(width=600) *\\\n",
    "hv.Curve(sumTracePk,('time','time [arb unit]'),('Volt','Volt')).redim.range(time=t1).options(width=600) *\\\n",
    "hv.Curve(singleTrace,('time','time [arb unit]'),('Volt','Volt')).redim.range(time=t1).options(width=600) *\\\n",
    "hv.Curve(singleTrace2,('time','time [arb unit]'),('Volt','Volt')).redim.range(time=t1).options(width=600) *\\\n",
    "hv.Points(sumTrace, kdims=['time','Volt']).redim.range(time=t1) *\\\n",
    "hv.Points(sumTracePk, kdims=['time','Volt']).redim.range(time=t1) *\\\n",
    "hv.Points(singleTrace, kdims=['time','Volt']).redim.range(time=t1) *\\\n",
    "hv.Points(singleTrace2, kdims=['time','Volt']).redim.range(time=t1)\n",
    "\n",
    "plot2=\\\n",
    "hv.Curve(traceInset_sum,('time2','Time [arb unit]'),('volt','volt')).options(width=300) *\\\n",
    "hv.Curve(traceInset_sumPk,('time2','Time [arb unit]'),('Volt2','Volt')).options(width=300) *\\\n",
    "hv.Curve(traceInset_single,('time2','Time [arb unit]'),('Volt2','Volt')).options(width=300) *\\\n",
    "hv.Curve(traceInset_single2,('time2','Time [arb unit]'),('Volt2','Volt')).options(width=300)\n",
    "plot1+plot2"
   ]
  },
  {
   "cell_type": "markdown",
   "metadata": {},
   "source": [
    "## Save template traces to hdf5 file."
   ]
  },
  {
   "cell_type": "code",
   "execution_count": null,
   "metadata": {},
   "outputs": [],
   "source": [
    "write=True\n",
    "if write:\n",
    "    with h5py.File(\"SingleAcqirisPeak_notebook.h5\", \"w\") as f:\n",
    "        f['sumTrace']=sumTrace\n",
    "        f['sumTracePk']=sumTracePk\n",
    "        f['singlePicked']=singleTrace\n",
    "        f['singlePicked_alt']=singleTrace2\n",
    "        f['acq_pk2_singles']=np.array([pk2/max(pk2) for pk2 in pk2Traces])\n",
    "        f['acq_pk2_singleRuns']=pk2Runs\n",
    "        f.close()"
   ]
  }
 ],
 "metadata": {
  "kernelspec": {
   "display_name": "Python 2 ana-1.3.55",
   "language": "python",
   "name": "ana-1.3.55"
  },
  "language_info": {
   "codemirror_mode": {
    "name": "ipython",
    "version": 2
   },
   "file_extension": ".py",
   "mimetype": "text/x-python",
   "name": "python",
   "nbconvert_exporter": "python",
   "pygments_lexer": "ipython2",
   "version": "2.7.15"
  }
 },
 "nbformat": 4,
 "nbformat_minor": 2
}
